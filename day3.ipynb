{
 "cells": [
  {
   "cell_type": "code",
   "execution_count": null,
   "id": "7a7649a3",
   "metadata": {},
   "outputs": [],
   "source": [
    "# while\n",
    "mark = 20\n",
    "if mark >10:\n",
    "    print(\"this is true\")\n",
    "    "
   ]
  },
  {
   "cell_type": "code",
   "execution_count": null,
   "id": "9c649bbd",
   "metadata": {},
   "outputs": [],
   "source": [
    "# while\n",
    "mark = 20\n",
    "while mark > 10:\n",
    "    print(\"mark is greater than 10\")"
   ]
  },
  {
   "cell_type": "code",
   "execution_count": null,
   "id": "361af498",
   "metadata": {},
   "outputs": [],
   "source": [
    "a = \"My name is Mg Mg\"\n",
    "list = [10,20,30,40]\n",
    "# for loop = for i in\n",
    "# range(start, stop, step)  index\n",
    "for num in range(2,21,4):\n",
    "    print(num)\n",
    "        \n",
    "for i in list:\n",
    "    print(i)\n",
    "\n",
    "for num in range(2,21,4):\n",
    "    print(num)    "
   ]
  },
  {
   "cell_type": "code",
   "execution_count": null,
   "id": "d1753a99",
   "metadata": {},
   "outputs": [],
   "source": [
    "# function\n",
    "def function_name(prameters):\n",
    "    # function_sute\n",
    "    return [Expression]"
   ]
  },
  {
   "cell_type": "code",
   "execution_count": null,
   "id": "2bd39955",
   "metadata": {},
   "outputs": [],
   "source": [
    "list = [10,20,30,40]\n",
    "\n",
    "def myloop():\n",
    "    print(list)\n",
    "\n",
    "myloop()\n",
    "myloop()\n",
    "myloop()\n",
    "myloop()"
   ]
  },
  {
   "cell_type": "code",
   "execution_count": null,
   "id": "57e14cc1",
   "metadata": {},
   "outputs": [],
   "source": [
    "name = input(\"Your Name\")\n",
    "age = input(\"Your Age\")\n",
    "\n",
    "def welcome():\n",
    "    print(\"Your Name is \"+name + \"Age :\"+ age)\n",
    "    \n",
    "welcome()"
   ]
  },
  {
   "cell_type": "code",
   "execution_count": null,
   "id": "301871b5",
   "metadata": {},
   "outputs": [],
   "source": [
    "mark = int(input(\"Enter Mark\"))\n",
    "\n",
    "def checkmark():\n",
    "    if mark > 80:\n",
    "        print(\"Credit\")\n",
    "    else:\n",
    "        print(\"Fail\")\n",
    "        \n",
    "checkmark()"
   ]
  },
  {
   "cell_type": "code",
   "execution_count": null,
   "id": "055ec8b6",
   "metadata": {},
   "outputs": [],
   "source": [
    "\n",
    "\n",
    "def add_num():\n",
    "    return a + b\n",
    "\n",
    "add_num()"
   ]
  },
  {
   "cell_type": "code",
   "execution_count": null,
   "id": "e7e1470f",
   "metadata": {},
   "outputs": [],
   "source": [
    "def add_num(**kwarg):  #argument\n",
    "    print(kwarg)\n",
    "\n",
    "def num1(*arg):\n",
    "    print(arg)\n",
    "\n",
    "\n",
    "num1('mgmg','mama')\n",
    "add_num(name='ayeaye', city='yangon')"
   ]
  },
  {
   "cell_type": "code",
   "execution_count": null,
   "id": "3437d450",
   "metadata": {},
   "outputs": [],
   "source": [
    "# lambda  / anonymous function /one line / variable function\n",
    "lambda parameters:expression\n",
    "\n",
    "def functionname(parameter):\n",
    "    # expression"
   ]
  },
  {
   "cell_type": "code",
   "execution_count": 59,
   "id": "9cf10e35",
   "metadata": {},
   "outputs": [
    {
     "data": {
      "text/plain": [
       "7"
      ]
     },
     "execution_count": 59,
     "metadata": {},
     "output_type": "execute_result"
    }
   ],
   "source": [
    "fun = lambda a,b: a+b\n",
    "\n",
    "fun(3,4)\n"
   ]
  }
 ],
 "metadata": {
  "kernelspec": {
   "display_name": "Python 3",
   "language": "python",
   "name": "python3"
  },
  "language_info": {
   "codemirror_mode": {
    "name": "ipython",
    "version": 3
   },
   "file_extension": ".py",
   "mimetype": "text/x-python",
   "name": "python",
   "nbconvert_exporter": "python",
   "pygments_lexer": "ipython3",
   "version": "3.12.10"
  }
 },
 "nbformat": 4,
 "nbformat_minor": 5
}
