{
 "cells": [
  {
   "cell_type": "code",
   "execution_count": null,
   "id": "3037f59b",
   "metadata": {},
   "outputs": [],
   "source": [
    "# decorator\n",
    "timeout = False\n",
    "\n",
    "def loginrequire(fn):\n",
    "    def capitalletter(user, password):\n",
    "        if not timeout:\n",
    "            print('Plese Login First')\n",
    "            return\n",
    "        print(\"User Already Login\")\n",
    "        return fn(user, password)\n",
    "    return capitalletter\n",
    "\n",
    "def loginaccess(fn):\n",
    "    def comfirmuser(user, password):\n",
    "        if user == 'admin' and password == '123':\n",
    "            return \"Success\"\n",
    "        \n",
    "        print('Fail')\n",
    "    return comfirmuser\n",
    "\n",
    "@loginrequire\n",
    "@loginaccess\n",
    "def myfunction(user, password):\n",
    "    return user, password\n",
    "\n",
    "myfunction(user='admin', password='123')"
   ]
  },
  {
   "cell_type": "code",
   "execution_count": 34,
   "id": "ebdb5af5",
   "metadata": {},
   "outputs": [
    {
     "data": {
      "text/plain": [
       "'HELLO WORLD'"
      ]
     },
     "execution_count": 34,
     "metadata": {},
     "output_type": "execute_result"
    }
   ],
   "source": [
    "def method_deco(fn):\n",
    "    def wrapper(self):\n",
    "        result = fn(self).upper()\n",
    "        return result\n",
    "    return wrapper\n",
    "\n",
    "class myClass:\n",
    "    @method_deco\n",
    "    def sayHello(self):\n",
    "        return 'hello world'\n",
    "        \n",
    "mc = myClass()\n",
    "mc.sayHello()"
   ]
  }
 ],
 "metadata": {
  "kernelspec": {
   "display_name": "Python 3",
   "language": "python",
   "name": "python3"
  },
  "language_info": {
   "codemirror_mode": {
    "name": "ipython",
    "version": 3
   },
   "file_extension": ".py",
   "mimetype": "text/x-python",
   "name": "python",
   "nbconvert_exporter": "python",
   "pygments_lexer": "ipython3",
   "version": "3.12.10"
  }
 },
 "nbformat": 4,
 "nbformat_minor": 5
}
