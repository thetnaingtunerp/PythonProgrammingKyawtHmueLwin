{
 "cells": [
  {
   "cell_type": "markdown",
   "id": "86f9acdc",
   "metadata": {},
   "source": [
    "Datatype \n",
    "integer = 12434556667\n",
    "float = 0.5\n",
    "string = \"Hello\", 'Hello'\n",
    "\n",
    "variable\n",
    "not start number\n",
    "not two word"
   ]
  },
  {
   "cell_type": "code",
   "execution_count": 15,
   "id": "0ff1663a",
   "metadata": {},
   "outputs": [
    {
     "name": "stdout",
     "output_type": "stream",
     "text": [
      "3000\n"
     ]
    }
   ],
   "source": [
    "ko_ko = \"Hello, My name KoKo. I Live in Yangon\"\n",
    "num = 3000\n",
    "\n",
    "print(num)\n"
   ]
  }
 ],
 "metadata": {
  "kernelspec": {
   "display_name": "Python 3",
   "language": "python",
   "name": "python3"
  },
  "language_info": {
   "codemirror_mode": {
    "name": "ipython",
    "version": 3
   },
   "file_extension": ".py",
   "mimetype": "text/x-python",
   "name": "python",
   "nbconvert_exporter": "python",
   "pygments_lexer": "ipython3",
   "version": "3.12.10"
  }
 },
 "nbformat": 4,
 "nbformat_minor": 5
}
