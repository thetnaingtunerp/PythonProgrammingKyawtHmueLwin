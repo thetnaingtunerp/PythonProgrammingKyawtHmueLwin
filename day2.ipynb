{
 "cells": [
  {
   "cell_type": "markdown",
   "id": "00e53307",
   "metadata": {},
   "source": [
    "Day 2"
   ]
  },
  {
   "cell_type": "code",
   "execution_count": null,
   "id": "b8cf2f6e",
   "metadata": {},
   "outputs": [],
   "source": [
    "a = 21\n",
    "b = 4\n",
    "print(a/b)\n",
    "print(a%b)"
   ]
  },
  {
   "cell_type": "code",
   "execution_count": null,
   "id": "1b77d11e",
   "metadata": {},
   "outputs": [],
   "source": [
    "# Python Data Structure \n",
    "\n",
    "# list [] operation\n",
    "\n",
    "# tuple ()\n",
    "# set {}  not-operan\n",
    "\n",
    "a = [1,2,3,4,5]\n",
    "# append()\n",
    "a.append(8)\n",
    "a.append(2)\n",
    "a.append(4)\n",
    "\n",
    "\n",
    "b = (1,2,3,4,5)\n",
    "c = [3,4]\n",
    "\n",
    "\n",
    "\n",
    "s = {1,2,3}\n",
    "s.append(4)\n",
    "print(s)"
   ]
  },
  {
   "cell_type": "code",
   "execution_count": null,
   "id": "e593ada5",
   "metadata": {},
   "outputs": [],
   "source": [
    "\n",
    "# index = alway start zero\n",
    "# array = [0, 1, 2, 3, 4]\n",
    "list =       [10,20,30,40,50]\n",
    "tuple =       (10,20,30,40,50)\n",
    "s =       {10,20,30,40,50}\n",
    "print(a[2])  #ok\n",
    "print(b[2]) # ok\n",
    "print(s[2]) #Type Error"
   ]
  },
  {
   "cell_type": "code",
   "execution_count": null,
   "id": "ea629c92",
   "metadata": {},
   "outputs": [],
   "source": [
    "# input() - user request\n",
    "name = input(\"enter your name\")\n",
    "\n",
    "print(type(name))\n",
    "print(\"Your Name is :\"+ name)\n"
   ]
  },
  {
   "cell_type": "code",
   "execution_count": null,
   "id": "0ff3ac81",
   "metadata": {},
   "outputs": [],
   "source": [
    "mylist = [1,3,5]\n",
    "name = input(\"enter your name\")\n",
    "mylist.append(name)\n",
    "\n",
    "print(mylist)\n"
   ]
  },
  {
   "cell_type": "code",
   "execution_count": null,
   "id": "8cd945d4",
   "metadata": {},
   "outputs": [],
   "source": [
    "mylist = [1,2,3,3,5,6,7]\n",
    "myind = [0,1,2,3,4,5,6]\n",
    "\n",
    "mylist[3] = 4\n",
    "\n",
    "print(mylist)"
   ]
  },
  {
   "cell_type": "code",
   "execution_count": null,
   "id": "86ea5e11",
   "metadata": {},
   "outputs": [],
   "source": [
    "mylist = [1,2,3,4,5,6,7]\n",
    "\n",
    "print(mylist[1:])\n",
    "print(mylist[:4])\n",
    "print(mylist[1:5]) #index range +1\n",
    "\n",
    "print(mylist[::-1])\n",
    "# 2,3,3,5\n"
   ]
  },
  {
   "cell_type": "code",
   "execution_count": null,
   "id": "23d929cf",
   "metadata": {},
   "outputs": [],
   "source": [
    "# condition\n",
    "# if else condition \n",
    "# match condition\n",
    "\n",
    "\n",
    "mark = int(input(\"enter mark :\"))\n",
    "\n",
    "if mark > 50:\n",
    "    print(\"Pass\")\n",
    "\n",
    "elif mark > 30:\n",
    "    print(\"modration\")\n",
    "\n",
    "elif mark > 20:\n",
    "    print(\"very fail\")\n",
    "\n",
    "else:\n",
    "    print(\"less not greater than 50\")\n",
    "    \n",
    "\n",
    "# 50 > pass \n",
    "# 80 > credit \n",
    "# 100 > fullmark\n"
   ]
  },
  {
   "cell_type": "code",
   "execution_count": null,
   "id": "c8afd9df",
   "metadata": {},
   "outputs": [],
   "source": [
    "# logical  \n",
    "# and or not \n",
    "# login \n",
    "\n",
    "user = 'admin1'\n",
    "pasword = '123'\n",
    "\n",
    "if user == \"admin\" and pasword==\"1234\":\n",
    "    print(\"Login In Success\")\n",
    "\n",
    "else:\n",
    "    print(\"Login Fail\")\n",
    "    \n",
    "\n",
    "# input()"
   ]
  }
 ],
 "metadata": {
  "kernelspec": {
   "display_name": "Python 3",
   "language": "python",
   "name": "python3"
  },
  "language_info": {
   "codemirror_mode": {
    "name": "ipython",
    "version": 3
   },
   "file_extension": ".py",
   "mimetype": "text/x-python",
   "name": "python",
   "nbconvert_exporter": "python",
   "pygments_lexer": "ipython3",
   "version": "3.12.10"
  }
 },
 "nbformat": 4,
 "nbformat_minor": 5
}
