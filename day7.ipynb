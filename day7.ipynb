{
 "cells": [
  {
   "cell_type": "code",
   "execution_count": null,
   "id": "ddfe7c83",
   "metadata": {},
   "outputs": [],
   "source": [
    "def addnum():\n",
    "    print('this is add fun')\n",
    "    \n",
    "def mul():\n",
    "    print('this is multi')\n",
    "\n",
    "addnum()\n",
    "mul()"
   ]
  },
  {
   "cell_type": "code",
   "execution_count": null,
   "id": "c903dbfb",
   "metadata": {},
   "outputs": [],
   "source": [
    "class myclass:\n",
    "    x = 5\n",
    "    print(x)"
   ]
  },
  {
   "cell_type": "code",
   "execution_count": null,
   "id": "9f51aa42",
   "metadata": {},
   "outputs": [],
   "source": [
    "class miya:\n",
    "    def left(self):\n",
    "        print(\"move left\")\n",
    "    \n",
    "    def top(self):\n",
    "        print('move top')\n",
    "        \n",
    "    def spell(self):\n",
    "        print('stand defender')\n",
    "\n",
    "class nana(miya):        \n",
    "    def hide(self):\n",
    "        print('Hidden')\n",
    "    \n",
    "nana().top()\n"
   ]
  },
  {
   "cell_type": "code",
   "execution_count": null,
   "id": "081d9937",
   "metadata": {},
   "outputs": [
    {
     "name": "stdout",
     "output_type": "stream",
     "text": [
      "Arrow\n"
     ]
    }
   ],
   "source": [
    "class move:\n",
    "    def left(self):\n",
    "        print('move left')\n",
    "        \n",
    "    def right(self):\n",
    "        print('move right')\n",
    "        \n",
    "class miya(move):\n",
    "    def arrow(self):\n",
    "        print('Arrow')\n",
    "        \n",
    "class nana(move):\n",
    "    def hide(self):\n",
    "        print('hidden')\n",
    "        \n",
    "class lasay(nana, miya):\n",
    "    def shot(self):\n",
    "        print('Shot')\n",
    "        \n",
    "lasay().arrow()\n",
    "\n",
    "\n",
    "\n"
   ]
  }
 ],
 "metadata": {
  "kernelspec": {
   "display_name": "Python 3",
   "language": "python",
   "name": "python3"
  },
  "language_info": {
   "codemirror_mode": {
    "name": "ipython",
    "version": 3
   },
   "file_extension": ".py",
   "mimetype": "text/x-python",
   "name": "python",
   "nbconvert_exporter": "python",
   "pygments_lexer": "ipython3",
   "version": "3.12.10"
  }
 },
 "nbformat": 4,
 "nbformat_minor": 5
}
