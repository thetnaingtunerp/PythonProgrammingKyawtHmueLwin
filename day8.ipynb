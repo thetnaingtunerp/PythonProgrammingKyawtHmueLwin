{
 "cells": [
  {
   "cell_type": "code",
   "execution_count": null,
   "id": "edf647f8",
   "metadata": {},
   "outputs": [
    {
     "name": "stdout",
     "output_type": "stream",
     "text": [
      "File Not Found\n"
     ]
    }
   ],
   "source": [
    "import os\n",
    "# fi = open(\"C:\\\\Users\\\\E15\\\\Documents\\\\Python4.py\", 'w')\n",
    "# file = \"C:\\\\Users\\\\E15\\\\Documents\"\n",
    "# os.remove(file)\n",
    "\n",
    "try:\n",
    "    file = \"C:\\\\Users\\\\E15\\\\Documents\\\\Test1.py\"\n",
    "    os.remove(file)\n",
    "    print('Delete Success')\n",
    "except IOError:\n",
    "    print('File Not Found')\n",
    "\n"
   ]
  }
 ],
 "metadata": {
  "kernelspec": {
   "display_name": "Python 3",
   "language": "python",
   "name": "python3"
  },
  "language_info": {
   "codemirror_mode": {
    "name": "ipython",
    "version": 3
   },
   "file_extension": ".py",
   "mimetype": "text/x-python",
   "name": "python",
   "nbconvert_exporter": "python",
   "pygments_lexer": "ipython3",
   "version": "3.12.10"
  }
 },
 "nbformat": 4,
 "nbformat_minor": 5
}
