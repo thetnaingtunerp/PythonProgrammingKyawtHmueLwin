{
 "cells": [
  {
   "cell_type": "markdown",
   "id": "fcc691b9",
   "metadata": {},
   "source": [
    "database\n",
    "sqlite"
   ]
  },
  {
   "cell_type": "code",
   "execution_count": null,
   "id": "bce3c36f",
   "metadata": {},
   "outputs": [],
   "source": [
    "import sqlite3\n",
    "\n",
    "conn = sqlite3.connect('example.db')   #connect db\n",
    "cur =conn.cursor()    #open db\n",
    "\n",
    "cur.execute('''\n",
    "            CREATE TABLE students(\n",
    "                id INTEGER PRIMARY KEY AUTOINCREMENT,\n",
    "                name TEXT,\n",
    "                phone TEXT, \n",
    "                address TEXT\n",
    "                )\n",
    "            ''')\n",
    "conn.commit()\n",
    "conn.close()\n",
    "\n"
   ]
  },
  {
   "cell_type": "code",
   "execution_count": 4,
   "id": "e1192eb3",
   "metadata": {},
   "outputs": [],
   "source": [
    "# insert data \n",
    "import sqlite3\n",
    "conn = sqlite3.connect('example.db')   #connect db\n",
    "cur =conn.cursor()    #open db\n",
    "\n",
    "\n",
    "input_name = input(\"Enter Name :\")\n",
    "input_ph = input(\"Enter Phone : \")\n",
    "input_ad = input(\"Enter Address : \")\n",
    "\n",
    "\n",
    "cur.execute(\"INSERT INTO students(name,phone, address)VALUES (?,?,?)\", (input_name,input_ph, input_ad))\n",
    "\n",
    "\n",
    "conn.commit()\n",
    "conn.close()\n"
   ]
  }
 ],
 "metadata": {
  "kernelspec": {
   "display_name": "Python 3",
   "language": "python",
   "name": "python3"
  },
  "language_info": {
   "codemirror_mode": {
    "name": "ipython",
    "version": 3
   },
   "file_extension": ".py",
   "mimetype": "text/x-python",
   "name": "python",
   "nbconvert_exporter": "python",
   "pygments_lexer": "ipython3",
   "version": "3.12.10"
  }
 },
 "nbformat": 4,
 "nbformat_minor": 5
}
